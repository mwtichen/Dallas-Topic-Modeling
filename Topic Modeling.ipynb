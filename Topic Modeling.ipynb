{
 "cells": [
  {
   "cell_type": "code",
   "execution_count": 2,
   "metadata": {},
   "outputs": [],
   "source": [
    "import pandas as pd\n",
    "from sodapy import Socrata\n",
    "\n",
    "# Example authenticated client (needed for non-public datasets):\n",
    "client = Socrata(\"www.dallasopendata.com\",\n",
    "                  APPTOKEN\n",
    "                  username=\"mwtichenor@gmail.com\",\n",
    "                  password=PWD)\n",
    "\n",
    "results = client.get(\"ts5d-gdq6\", limit=9999999)\n",
    "\n",
    "client.close()"
   ]
  },
  {
   "cell_type": "code",
   "execution_count": 3,
   "metadata": {},
   "outputs": [
    {
     "data": {
      "text/html": [
       "<div>\n",
       "<style scoped>\n",
       "    .dataframe tbody tr th:only-of-type {\n",
       "        vertical-align: middle;\n",
       "    }\n",
       "\n",
       "    .dataframe tbody tr th {\n",
       "        vertical-align: top;\n",
       "    }\n",
       "\n",
       "    .dataframe thead th {\n",
       "        text-align: right;\n",
       "    }\n",
       "</style>\n",
       "<table border=\"1\" class=\"dataframe\">\n",
       "  <thead>\n",
       "    <tr style=\"text-align: right;\">\n",
       "      <th></th>\n",
       "      <th>date</th>\n",
       "      <th>agenda_item_number</th>\n",
       "      <th>item_type</th>\n",
       "      <th>district</th>\n",
       "      <th>title</th>\n",
       "      <th>voter_name</th>\n",
       "      <th>vote</th>\n",
       "      <th>final_action_taken</th>\n",
       "      <th>agenda_item_description</th>\n",
       "      <th>agenda_id</th>\n",
       "      <th>vote_id</th>\n",
       "    </tr>\n",
       "  </thead>\n",
       "  <tbody>\n",
       "    <tr>\n",
       "      <td>0</td>\n",
       "      <td>2020-04-01T00:00:00.000</td>\n",
       "      <td>1</td>\n",
       "      <td>AGENDA</td>\n",
       "      <td>7</td>\n",
       "      <td>Councilmember</td>\n",
       "      <td>Adam Bazaldua</td>\n",
       "      <td>YES</td>\n",
       "      <td>APPROVED</td>\n",
       "      <td>Approval of Minutes of the March 4, 2020 City ...</td>\n",
       "      <td>040120_AG_1</td>\n",
       "      <td>040120_AG_1_7</td>\n",
       "    </tr>\n",
       "    <tr>\n",
       "      <td>1</td>\n",
       "      <td>2020-04-01T00:00:00.000</td>\n",
       "      <td>2</td>\n",
       "      <td>AGENDA</td>\n",
       "      <td>1</td>\n",
       "      <td>Councilmember</td>\n",
       "      <td>Chad West</td>\n",
       "      <td>YES</td>\n",
       "      <td>APPROVED</td>\n",
       "      <td>Consideration of appointments to boards and co...</td>\n",
       "      <td>040120_AG_2</td>\n",
       "      <td>040120_AG_2_1</td>\n",
       "    </tr>\n",
       "    <tr>\n",
       "      <td>2</td>\n",
       "      <td>2020-04-01T00:00:00.000</td>\n",
       "      <td>1</td>\n",
       "      <td>AGENDA</td>\n",
       "      <td>6</td>\n",
       "      <td>Councilmember</td>\n",
       "      <td>Omar Narvaez</td>\n",
       "      <td>YES</td>\n",
       "      <td>APPROVED</td>\n",
       "      <td>Approval of Minutes of the March 4, 2020 City ...</td>\n",
       "      <td>040120_AG_1</td>\n",
       "      <td>040120_AG_1_6</td>\n",
       "    </tr>\n",
       "    <tr>\n",
       "      <td>3</td>\n",
       "      <td>2020-04-01T00:00:00.000</td>\n",
       "      <td>2</td>\n",
       "      <td>AGENDA</td>\n",
       "      <td>10</td>\n",
       "      <td>Deputy Mayor Pro Tem</td>\n",
       "      <td>B. Adam McGough</td>\n",
       "      <td>YES</td>\n",
       "      <td>APPROVED</td>\n",
       "      <td>Consideration of appointments to boards and co...</td>\n",
       "      <td>040120_AG_2</td>\n",
       "      <td>040120_AG_2_10</td>\n",
       "    </tr>\n",
       "    <tr>\n",
       "      <td>4</td>\n",
       "      <td>2020-04-01T00:00:00.000</td>\n",
       "      <td>1</td>\n",
       "      <td>AGENDA</td>\n",
       "      <td>9</td>\n",
       "      <td>Councilmember</td>\n",
       "      <td>Paula Blackmon</td>\n",
       "      <td>YES</td>\n",
       "      <td>APPROVED</td>\n",
       "      <td>Approval of Minutes of the March 4, 2020 City ...</td>\n",
       "      <td>040120_AG_1</td>\n",
       "      <td>040120_AG_1_9</td>\n",
       "    </tr>\n",
       "  </tbody>\n",
       "</table>\n",
       "</div>"
      ],
      "text/plain": [
       "                      date agenda_item_number item_type district  \\\n",
       "0  2020-04-01T00:00:00.000                  1    AGENDA        7   \n",
       "1  2020-04-01T00:00:00.000                  2    AGENDA        1   \n",
       "2  2020-04-01T00:00:00.000                  1    AGENDA        6   \n",
       "3  2020-04-01T00:00:00.000                  2    AGENDA       10   \n",
       "4  2020-04-01T00:00:00.000                  1    AGENDA        9   \n",
       "\n",
       "                  title       voter_name vote final_action_taken  \\\n",
       "0         Councilmember    Adam Bazaldua  YES           APPROVED   \n",
       "1         Councilmember        Chad West  YES           APPROVED   \n",
       "2         Councilmember     Omar Narvaez  YES           APPROVED   \n",
       "3  Deputy Mayor Pro Tem  B. Adam McGough  YES           APPROVED   \n",
       "4         Councilmember   Paula Blackmon  YES           APPROVED   \n",
       "\n",
       "                             agenda_item_description    agenda_id  \\\n",
       "0  Approval of Minutes of the March 4, 2020 City ...  040120_AG_1   \n",
       "1  Consideration of appointments to boards and co...  040120_AG_2   \n",
       "2  Approval of Minutes of the March 4, 2020 City ...  040120_AG_1   \n",
       "3  Consideration of appointments to boards and co...  040120_AG_2   \n",
       "4  Approval of Minutes of the March 4, 2020 City ...  040120_AG_1   \n",
       "\n",
       "          vote_id  \n",
       "0   040120_AG_1_7  \n",
       "1   040120_AG_2_1  \n",
       "2   040120_AG_1_6  \n",
       "3  040120_AG_2_10  \n",
       "4   040120_AG_1_9  "
      ]
     },
     "execution_count": 3,
     "metadata": {},
     "output_type": "execute_result"
    }
   ],
   "source": [
    "results_df = pd.DataFrame.from_records(results)\n",
    "results_df.head()"
   ]
  },
  {
   "cell_type": "markdown",
   "metadata": {},
   "source": [
    "What's the time period for these agenda items?"
   ]
  },
  {
   "cell_type": "code",
   "execution_count": 4,
   "metadata": {},
   "outputs": [
    {
     "data": {
      "text/plain": [
       "2016-09-07T00:00:00.000      75\n",
       "2016-09-14T00:00:00.000    1575\n",
       "2016-09-21T00:00:00.000     135\n",
       "2016-09-28T00:00:00.000    1065\n",
       "2016-10-11T00:00:00.000     735\n",
       "                           ... \n",
       "2020-02-26T00:00:00.000    1230\n",
       "2020-03-04T00:00:00.000      30\n",
       "2020-03-18T00:00:00.000      30\n",
       "2020-03-25T00:00:00.000    1005\n",
       "2020-04-01T00:00:00.000      30\n",
       "Name: date, Length: 132, dtype: int64"
      ]
     },
     "execution_count": 4,
     "metadata": {},
     "output_type": "execute_result"
    }
   ],
   "source": [
    "results_df[\"date\"].value_counts().sort_index()"
   ]
  },
  {
   "cell_type": "markdown",
   "metadata": {},
   "source": [
    "How many agenda items are there?"
   ]
  },
  {
   "cell_type": "code",
   "execution_count": 5,
   "metadata": {},
   "outputs": [
    {
     "data": {
      "text/plain": [
       "4876"
      ]
     },
     "execution_count": 5,
     "metadata": {},
     "output_type": "execute_result"
    }
   ],
   "source": [
    "results_df[\"agenda_id\"].nunique()"
   ]
  },
  {
   "cell_type": "code",
   "execution_count": 6,
   "metadata": {},
   "outputs": [],
   "source": [
    "results_df = results_df.loc[:, [\"agenda_id\", \"agenda_item_description\"]].drop_duplicates()"
   ]
  },
  {
   "cell_type": "markdown",
   "metadata": {},
   "source": [
    "Checkout a sample agenda."
   ]
  },
  {
   "cell_type": "code",
   "execution_count": 7,
   "metadata": {},
   "outputs": [
    {
     "data": {
      "text/plain": [
       "'Authorize a contract with Dallas Area Rapid Transit for the purchase of 300 annual passes in support of the City?s clean air initiative - Not to exceed $60,000.00 - Financing: General Fund (see Fiscal Information)'"
      ]
     },
     "execution_count": 7,
     "metadata": {},
     "output_type": "execute_result"
    }
   ],
   "source": [
    "results_df.iloc[369,1]"
   ]
  },
  {
   "cell_type": "markdown",
   "metadata": {},
   "source": [
    "## Data Preprocessing"
   ]
  },
  {
   "cell_type": "code",
   "execution_count": 8,
   "metadata": {},
   "outputs": [],
   "source": [
    "agendas = results_df.iloc[:, 1].tolist()"
   ]
  },
  {
   "cell_type": "code",
   "execution_count": 9,
   "metadata": {},
   "outputs": [],
   "source": [
    "from gensim.parsing.preprocessing import preprocess_string, strip_punctuation, strip_short\n",
    "from gensim.parsing.preprocessing import strip_multiple_whitespaces, strip_numeric, remove_stopwords\n",
    "import spacy\n",
    "\n",
    "nlp = spacy.load(\"en_core_web_sm\")"
   ]
  },
  {
   "cell_type": "code",
   "execution_count": 10,
   "metadata": {},
   "outputs": [
    {
     "name": "stdout",
     "output_type": "stream",
     "text": [
      "Authorize a professional services contract with The Kercher Group, Inc. to provide Pavement Management Consultant Services including pavement modeling evaluation, evaluation and review of current practices, quality management review of pavement condition data collection, and review of sidewalk and alley management practices - Not to exceed $232,431.58 - Financing: General Fund\n"
     ]
    }
   ],
   "source": [
    "txt = agendas[311]\n",
    "print(txt)"
   ]
  },
  {
   "cell_type": "code",
   "execution_count": 11,
   "metadata": {},
   "outputs": [
    {
     "name": "stdout",
     "output_type": "stream",
     "text": [
      "Authorize a professional services contract with The Kercher Group  Inc  to provide Pavement Management Consultant Services including pavement modeling evaluation  evaluation and review of current practices  quality management review of pavement condition data collection  and review of sidewalk and alley management practices   Not to exceed  232 431 58   Financing  General Fund\n"
     ]
    }
   ],
   "source": [
    "txt = strip_punctuation(txt)\n",
    "print(txt)"
   ]
  },
  {
   "cell_type": "code",
   "execution_count": 12,
   "metadata": {},
   "outputs": [
    {
     "name": "stdout",
     "output_type": "stream",
     "text": [
      "Authorize a professional services contract with The Kercher Group  Inc  to provide Pavement Management Consultant Services including pavement modeling evaluation  evaluation and review of current practices  quality management review of pavement condition data collection  and review of sidewalk and alley management practices   Not to exceed       Financing  General Fund\n"
     ]
    }
   ],
   "source": [
    "txt = strip_numeric(txt)\n",
    "print(txt)"
   ]
  },
  {
   "cell_type": "code",
   "execution_count": 13,
   "metadata": {},
   "outputs": [
    {
     "name": "stdout",
     "output_type": "stream",
     "text": [
      "Authorize professional services contract The Kercher Group Inc provide Pavement Management Consultant Services including pavement modeling evaluation evaluation review current practices quality management review pavement condition data collection review sidewalk alley management practices Not exceed Financing General Fund\n"
     ]
    }
   ],
   "source": [
    "txt = remove_stopwords(txt)\n",
    "print(txt)"
   ]
  },
  {
   "cell_type": "code",
   "execution_count": 14,
   "metadata": {},
   "outputs": [
    {
     "name": "stdout",
     "output_type": "stream",
     "text": [
      "authorize professional service contract the Kercher Group Inc provide Pavement Management Consultant Services include pavement modeling evaluation evaluation review current practice quality management review pavement condition data collection review sidewalk alley management practice not exceed Financing General Fund\n"
     ]
    }
   ],
   "source": [
    "doc = nlp(txt)\n",
    "lemmatized = []\n",
    "for token in doc:\n",
    "    lemmatized.append(token.lemma_)\n",
    "\n",
    "print(' '.join(lemmatized))"
   ]
  },
  {
   "cell_type": "code",
   "execution_count": 15,
   "metadata": {},
   "outputs": [],
   "source": [
    "def spacy_lemmatize(x):\n",
    "    doc = nlp(x)\n",
    "    lemmas = []\n",
    "    for token in doc:\n",
    "        lemmas.append(token.lemma_)\n",
    "    return ' '.join(lemmas)\n",
    "\n",
    "CUSTOM_FILTERS = [lambda x: x.replace('�',\"'\"), strip_punctuation,\n",
    "                  strip_numeric, remove_stopwords, spacy_lemmatize]\n",
    "\n",
    "texts = [preprocess_string(agenda, CUSTOM_FILTERS) for agenda in agendas]"
   ]
  },
  {
   "cell_type": "code",
   "execution_count": 16,
   "metadata": {},
   "outputs": [
    {
     "name": "stdout",
     "output_type": "stream",
     "text": [
      "Dictionary(8879 unique tokens: ['Briefing', 'City', 'Council', 'March', 'Meeting']...)\n"
     ]
    }
   ],
   "source": [
    "from gensim import corpora\n",
    "\n",
    "dictionary = corpora.Dictionary(texts)\n",
    "\n",
    "print(dictionary)"
   ]
  },
  {
   "cell_type": "code",
   "execution_count": 17,
   "metadata": {},
   "outputs": [
    {
     "name": "stdout",
     "output_type": "stream",
     "text": [
      "[(17, 2), (31, 1), (33, 1), (34, 1), (36, 1), (40, 1), (48, 1), (58, 1), (105, 1), (107, 1), (120, 1), (185, 2), (202, 1), (267, 1), (296, 1), (298, 1), (456, 1), (484, 1), (633, 1), (918, 1), (974, 1), (1130, 3), (1342, 1), (1521, 1), (2158, 1), (2159, 1), (2160, 1), (2161, 1), (2162, 1), (2163, 2), (2164, 2), (2165, 1)]\n"
     ]
    }
   ],
   "source": [
    "corpus = [dictionary.doc2bow(text) for text in texts]\n",
    "\n",
    "print(corpus[311])"
   ]
  },
  {
   "cell_type": "code",
   "execution_count": 18,
   "metadata": {},
   "outputs": [
    {
     "name": "stdout",
     "output_type": "stream",
     "text": [
      "('evaluation', 2)\n",
      "('Financing', 1)\n",
      "('Fund', 1)\n",
      "('General', 1)\n",
      "('Management', 1)\n",
      "('Services', 1)\n",
      "('authorize', 1)\n",
      "('service', 1)\n",
      "('exceed', 1)\n",
      "('not', 1)\n",
      "('Inc', 1)\n",
      "('management', 2)\n",
      "('provide', 1)\n",
      "('condition', 1)\n",
      "('contract', 1)\n",
      "('professional', 1)\n",
      "('Group', 1)\n",
      "('include', 1)\n",
      "('sidewalk', 1)\n",
      "('data', 1)\n",
      "('current', 1)\n",
      "('review', 3)\n",
      "('the', 1)\n",
      "('alley', 1)\n",
      "('Consultant', 1)\n",
      "('Kercher', 1)\n",
      "('Pavement', 1)\n",
      "('collection', 1)\n",
      "('modeling', 1)\n",
      "('pavement', 2)\n",
      "('practice', 2)\n",
      "('quality', 1)\n"
     ]
    }
   ],
   "source": [
    "for id, freq in corpus[311]:\n",
    "    print((dictionary[id], freq))\n"
   ]
  },
  {
   "cell_type": "code",
   "execution_count": 19,
   "metadata": {},
   "outputs": [
    {
     "name": "stdout",
     "output_type": "stream",
     "text": [
      "('evaluation', 0.21188832614014183)\n",
      "('Financing', 0.016646802680202903)\n",
      "('Fund', 0.044295053902416365)\n",
      "('General', 0.06491710719280125)\n",
      "('Management', 0.09270150688005326)\n",
      "('Services', 0.0750655765830837)\n",
      "('authorize', 0.01725923117908318)\n",
      "('service', 0.040430470045679914)\n",
      "('exceed', 0.025757074065474835)\n",
      "('not', 0.03128513839202381)\n",
      "('Inc', 0.04836718575109044)\n",
      "('management', 0.21145001794595045)\n",
      "('provide', 0.05687813663445035)\n",
      "('condition', 0.11019607756260195)\n",
      "('contract', 0.04174615032119411)\n",
      "('professional', 0.07893549473859429)\n",
      "('Group', 0.09565157593957953)\n",
      "('include', 0.0947351469883799)\n",
      "('sidewalk', 0.14309151313956292)\n",
      "('data', 0.17963275363657077)\n",
      "('current', 0.09927890634302312)\n",
      "('review', 0.4594948385188758)\n",
      "('the', 0.1055074722640264)\n",
      "('alley', 0.12962806123343126)\n",
      "('Consultant', 0.250313331169163)\n",
      "('Kercher', 0.250313331169163)\n",
      "('Pavement', 0.1855477411716934)\n",
      "('collection', 0.108230276587271)\n",
      "('modeling', 0.250313331169163)\n",
      "('pavement', 0.34941730471224186)\n",
      "('practice', 0.3949985346038429)\n",
      "('quality', 0.1685882556951359)\n"
     ]
    }
   ],
   "source": [
    "from gensim import models\n",
    "\n",
    "tfidf = models.TfidfModel(corpus) \n",
    "\n",
    "corpus_tfidf = tfidf[corpus]\n",
    "\n",
    "for id, freq in corpus_tfidf[311]:\n",
    "    print((dictionary[id], freq))"
   ]
  },
  {
   "cell_type": "code",
   "execution_count": 20,
   "metadata": {},
   "outputs": [
    {
     "name": "stdout",
     "output_type": "stream",
     "text": [
      "Num Topics:  1 ; C_V:  0.9423819545540073\n",
      "Num Topics:  2 ; C_V:  0.9692570526074304\n",
      "Num Topics:  3 ; C_V:  0.9319444923447361\n",
      "Num Topics:  4 ; C_V:  0.8574558178602345\n",
      "Num Topics:  5 ; C_V:  0.8439460170873525\n",
      "Num Topics:  6 ; C_V:  0.8168833047381282\n",
      "Num Topics:  7 ; C_V:  0.7524731931706611\n",
      "Num Topics:  8 ; C_V:  0.706254333584823\n",
      "Num Topics:  9 ; C_V:  0.7243204673958691\n",
      "Num Topics:  10 ; C_V:  0.7429322504058501\n",
      "Num Topics:  11 ; C_V:  0.692881189722807\n",
      "Num Topics:  12 ; C_V:  0.6942228039462776\n",
      "Num Topics:  13 ; C_V:  0.6596754020784693\n",
      "Num Topics:  14 ; C_V:  0.6400462228576865\n",
      "Num Topics:  15 ; C_V:  0.6275913723576626\n",
      "Num Topics:  16 ; C_V:  0.6387010791059495\n",
      "Num Topics:  17 ; C_V:  0.6262516441040971\n",
      "Num Topics:  18 ; C_V:  0.6105074681482467\n",
      "Num Topics:  19 ; C_V:  0.6122336156088535\n",
      "Num Topics:  20 ; C_V:  0.6201094745883097\n"
     ]
    }
   ],
   "source": [
    "from gensim.models.coherencemodel import CoherenceModel\n",
    "\n",
    "topics = list(range(1, 21))\n",
    "scores = []\n",
    "\n",
    "for t in topics:\n",
    "    lsi = models.LsiModel(corpus_tfidf, num_topics = t, id2word=dictionary)\n",
    "    #corpus_lsi = lsi[corpus_tfidf]\n",
    "    lsitopics = lsi.show_topics(formatted=False)\n",
    "    lsitopics = [[word for word, prob in topic] for topicid, topic in lsitopics]\n",
    "    cm = CoherenceModel(topics = lsitopics, \n",
    "                    texts = texts,\n",
    "                    dictionary=dictionary)\n",
    "    score = cm.get_coherence()\n",
    "    scores.append(score)\n",
    "    print(\"Num Topics: \", t, \"; C_V: \", score)"
   ]
  },
  {
   "cell_type": "code",
   "execution_count": 21,
   "metadata": {},
   "outputs": [
    {
     "name": "stdout",
     "output_type": "stream",
     "text": [
      "Num Topics:  1 ; C_V:  0.6996830388125176\n",
      "Num Topics:  2 ; C_V:  0.8892586925618635\n",
      "Num Topics:  3 ; C_V:  0.6581959997575711\n",
      "Num Topics:  4 ; C_V:  0.6823594822945948\n",
      "Num Topics:  5 ; C_V:  0.8116965801849447\n",
      "Num Topics:  6 ; C_V:  0.5170436007219237\n",
      "Num Topics:  7 ; C_V:  0.6595474862507668\n",
      "Num Topics:  8 ; C_V:  0.6876437787899712\n",
      "Num Topics:  9 ; C_V:  0.8149177040636931\n",
      "Num Topics:  10 ; C_V:  0.8134370996697593\n",
      "Num Topics:  11 ; C_V:  0.7484645112502315\n",
      "Num Topics:  12 ; C_V:  0.7183086990849488\n",
      "Num Topics:  13 ; C_V:  0.8324351626570305\n",
      "Num Topics:  14 ; C_V:  0.7900520808117295\n",
      "Num Topics:  15 ; C_V:  0.7670308363206224\n",
      "Num Topics:  16 ; C_V:  0.6674429562416591\n",
      "Num Topics:  17 ; C_V:  0.7375366189938563\n",
      "Num Topics:  18 ; C_V:  0.6634263882166842\n",
      "Num Topics:  19 ; C_V:  0.7501699902981339\n",
      "Num Topics:  20 ; C_V:  0.769014693921935\n"
     ]
    }
   ],
   "source": [
    "from gensim.models.nmf import Nmf\n",
    "\n",
    "nmf_scores = []\n",
    "\n",
    "for t in topics:\n",
    "    nmf = Nmf(corpus_tfidf, num_topics = t, id2word=dictionary, random_state = 13)\n",
    "    #corpus_lsi = lsi[corpus_tfidf]\n",
    "    nmftopics = nmf.show_topics(formatted=False)\n",
    "    nmftopics = [[word for word, prob in topic] for topicid, topic in nmftopics]\n",
    "    cm = CoherenceModel(topics = nmftopics, \n",
    "                    texts = texts,\n",
    "                    dictionary=dictionary)\n",
    "    nmf_score = cm.get_coherence()\n",
    "    nmf_scores.append(nmf_score)\n",
    "    print(\"Num Topics: \", t, \"; C_V: \", nmf_score)"
   ]
  },
  {
   "cell_type": "code",
   "execution_count": 22,
   "metadata": {},
   "outputs": [
    {
     "name": "stdout",
     "output_type": "stream",
     "text": [
      "Num Topics:  1 ; C_V:  0.4042799605610073\n",
      "Num Topics:  2 ; C_V:  0.7560824127942687\n",
      "Num Topics:  3 ; C_V:  0.7518613405828255\n",
      "Num Topics:  4 ; C_V:  0.669377564247603\n",
      "Num Topics:  5 ; C_V:  0.5980828328210164\n",
      "Num Topics:  6 ; C_V:  0.6642414208074904\n",
      "Num Topics:  7 ; C_V:  0.7326193718844076\n",
      "Num Topics:  8 ; C_V:  0.7049719693535652\n",
      "Num Topics:  9 ; C_V:  0.6794860978009716\n",
      "Num Topics:  10 ; C_V:  0.7297011696080853\n",
      "Num Topics:  11 ; C_V:  0.7138656594412727\n",
      "Num Topics:  12 ; C_V:  0.6898322028609429\n",
      "Num Topics:  13 ; C_V:  0.7199955193634396\n",
      "Num Topics:  14 ; C_V:  0.7488066727414924\n",
      "Num Topics:  15 ; C_V:  0.7207604604858799\n",
      "Num Topics:  16 ; C_V:  0.6933964862763665\n",
      "Num Topics:  17 ; C_V:  0.7267984114079085\n",
      "Num Topics:  18 ; C_V:  0.7306731508304599\n",
      "Num Topics:  19 ; C_V:  0.7684368515417641\n",
      "Num Topics:  20 ; C_V:  0.7710192181628245\n"
     ]
    }
   ],
   "source": [
    "from gensim.models.ldamodel import LdaModel\n",
    "\n",
    "lda_scores = []\n",
    "\n",
    "for t in topics:\n",
    "    lda = LdaModel(corpus, num_topics = t, id2word=dictionary, random_state = 13)\n",
    "    #corpus_lsi = lsi[corpus_tfidf]\n",
    "    ldatopics = lda.show_topics(formatted=False)\n",
    "    ldatopics = [[word for word, prob in topic] for topicid, topic in ldatopics]\n",
    "    cm = CoherenceModel(topics = ldatopics, \n",
    "                    texts = texts,\n",
    "                    dictionary=dictionary)\n",
    "    lda_score = cm.get_coherence()\n",
    "    lda_scores.append(lda_score)\n",
    "    print(\"Num Topics: \", t, \"; C_V: \", lda_score)"
   ]
  },
  {
   "cell_type": "code",
   "execution_count": 23,
   "metadata": {},
   "outputs": [
    {
     "data": {
      "image/png": "[encoded data removed]",
      "text/plain": [
       "<Figure size 432x288 with 1 Axes>"
      ]
     },
     "metadata": {
      "needs_background": "light"
     },
     "output_type": "display_data"
    }
   ],
   "source": [
    "%matplotlib inline\n",
    "\n",
    "from matplotlib import pyplot as plt\n",
    "plt.plot(topics, scores, label = \"LSI\")\n",
    "plt.plot(topics, nmf_scores, label = \"NMF\")\n",
    "plt.plot(topics, lda_scores, label = \"LDA\")\n",
    "plt.ylabel(\"C_V Score\")\n",
    "plt.xlabel(\"Number of topics\")\n",
    "plt.legend()\n",
    "plt.show()"
   ]
  },
  {
   "cell_type": "code",
   "execution_count": 35,
   "metadata": {},
   "outputs": [
    {
     "data": {
      "image/png": "[encoded data removed]",
      "text/plain": [
       "<Figure size 432x288 with 1 Axes>"
      ]
     },
     "metadata": {
      "needs_background": "light"
     },
     "output_type": "display_data"
    }
   ],
   "source": [
    "from matplotlib import pyplot as plt\n",
    "plt.plot(topics, scores, label = \"LSI\")\n",
    "plt.plot(topics, nmf_scores, label = \"NMF\")\n",
    "plt.plot(topics, lda_scores, label = \"LDA\")\n",
    "plt.ylabel(\"C_V Score\")\n",
    "plt.xlabel(\"Number of topics\")\n",
    "plt.savefig(r\"C:\\Users\\mwtichen\\Documents\\Python Scripts\\Dallas Agendas\\model_comparison.png\")"
   ]
  },
  {
   "cell_type": "code",
   "execution_count": 24,
   "metadata": {},
   "outputs": [
    {
     "data": {
      "text/plain": [
       "[(0,\n",
       "  '0.333*\"District\" + 0.169*\"public\" + 0.166*\"hearing\" + 0.165*\"property\" + 0.162*\"ordinance\" + 0.157*\"application\" + 0.156*\"comment\" + 0.155*\"a\" + 0.154*\"zone\" + 0.152*\"receive\"'),\n",
       " (1,\n",
       "  '0.475*\"commission\" + 0.469*\"board\" + 0.241*\"duties\" + 0.239*\"appointment\" + 0.236*\"evaluation\" + 0.236*\"nominee\" + 0.231*\"available\" + 0.230*\"member\" + 0.221*\"Secretary\" + 0.206*\"list\"')]"
      ]
     },
     "execution_count": 24,
     "metadata": {},
     "output_type": "execute_result"
    }
   ],
   "source": [
    "NUM = 2\n",
    "\n",
    "lsi = models.LsiModel(corpus_tfidf, num_topics = NUM, id2word=dictionary)\n",
    "corpus_lsi = lsi[corpus_tfidf]\n",
    "lsi.show_topics()"
   ]
  },
  {
   "cell_type": "code",
   "execution_count": 25,
   "metadata": {},
   "outputs": [],
   "source": [
    "import numpy as np\n",
    "from gensim.matutils import corpus2dense\n",
    "\n",
    "coprus_lsi_mat = corpus2dense(corpus_lsi, 2)"
   ]
  },
  {
   "cell_type": "code",
   "execution_count": 26,
   "metadata": {},
   "outputs": [
    {
     "data": {
      "text/plain": [
       "(2, 4876)"
      ]
     },
     "execution_count": 26,
     "metadata": {},
     "output_type": "execute_result"
    }
   ],
   "source": [
    "coprus_lsi_mat.shape"
   ]
  },
  {
   "cell_type": "code",
   "execution_count": 27,
   "metadata": {},
   "outputs": [
    {
     "data": {
      "image/png": "[encoded data removed]",
      "text/plain": [
       "<Figure size 432x288 with 1 Axes>"
      ]
     },
     "metadata": {
      "needs_background": "light"
     },
     "output_type": "display_data"
    }
   ],
   "source": [
    "plt.scatter(coprus_lsi_mat[0, :], coprus_lsi_mat[1, :]) \n",
    "plt.xlabel(\"Topic 1\")\n",
    "plt.ylabel(\"Topic 2\")\n",
    "plt.show()"
   ]
  },
  {
   "cell_type": "code",
   "execution_count": 34,
   "metadata": {},
   "outputs": [
    {
     "data": {
      "image/png": "[encoded data removed]",
      "text/plain": [
       "<Figure size 432x288 with 1 Axes>"
      ]
     },
     "metadata": {
      "needs_background": "light"
     },
     "output_type": "display_data"
    }
   ],
   "source": [
    "plt.scatter(coprus_lsi_mat[0, :], coprus_lsi_mat[1, :]) \n",
    "plt.xlabel(\"Topic 1\")\n",
    "plt.ylabel(\"Topic 2\")\n",
    "plt.savefig(r\"C:\\Users\\mwtichen\\Documents\\Python Scripts\\Dallas Agendas\\doc_topic_plot.png\")"
   ]
  },
  {
   "cell_type": "code",
   "execution_count": 28,
   "metadata": {},
   "outputs": [
    {
     "data": {
      "text/plain": [
       "3622"
      ]
     },
     "execution_count": 28,
     "metadata": {},
     "output_type": "execute_result"
    }
   ],
   "source": [
    "np.argmax(coprus_lsi_mat[0, :])"
   ]
  },
  {
   "cell_type": "code",
   "execution_count": 29,
   "metadata": {},
   "outputs": [
    {
     "data": {
      "text/plain": [
       "'A public hearing to receive comments regarding an application for and (1) an ordinance granting a TH-2(A) Townhouse District on property zoned Planned Development District No. 624 and an R-7.5(A) Single Family District; (2) an ordinance granting an MF-2(A) Multifamily District on property zoned Planned Development District No. 624; (3) an ordinance granting a CR Community Retail District on property zoned Planned Development District No. 624 and an R-7.5(A) Single Family District; (4) an ordinance granting an MF-3(A) Multifamily District on property zoned Planned Development District No. 624, an R-7.5(A) Single Family District, and a CR Community Retail District; (5) an ordinance granting a CR Community Retail District on property zoned an NS(A) Neighborhood Service District; (6) an ordinance granting an MF-3(A) Multifamily District on property zoned an R-7.5(A) Single Family District; (7) an ordinance granting an MF-2(A) Multifamily District on property zoned an R-7.5(A) Single Family District and a TH-2(A) Townhouse District; (8) an ordinance granting an MU-2 Mixed Use District on property zoned an R-7.5(A) Single Family District; (9) an ordinance granting a UC-2 Urban Corridor District on property zoned an R-7.5(A) Single Family District, an MF-2(A) Multifamily District, and an LO-1 Limited Office District; (10) an ordinance granting a CR Community Retail District on property zoned an LO-1 Limited Office District; (11) an ordinance granting a CR Community Retail District on property zoned an R-7.5(A) Single Family District, a TH-2(A) Townhouse District, and an MF-2(A) Multifamily District; (12) an ordinance granting a CR Community Retail District on property zoned an R-7.5(A) Single Family District and an MF-2(A) Multifamily District; (13) an ordinance granting an MU-2 Mixed Use District on property zoned an MF-2(A) Multifamily District and an LO-1 Limited Office District; (14) an ordinance granting an MU-2 Mixed Use District on property zoned an R-7.5(A) Single Family District; (15) an ordinance granting a CR Community Retail District on property zoned an NS(A) Neighborhood Service District; (16) an ordinance granting a revised conceptual plan for the remainder of Planned Development District No. 624; and (17) a resolution granting the termination of deed restrictions on property west of South Lancaster Road, north of Interstate I-20, and on both sides of East Wheatland Road'"
      ]
     },
     "execution_count": 29,
     "metadata": {},
     "output_type": "execute_result"
    }
   ],
   "source": [
    "agendas[3622]"
   ]
  },
  {
   "cell_type": "code",
   "execution_count": 32,
   "metadata": {},
   "outputs": [
    {
     "data": {
      "text/plain": [
       "1"
      ]
     },
     "execution_count": 32,
     "metadata": {},
     "output_type": "execute_result"
    }
   ],
   "source": [
    "np.argmax(coprus_lsi_mat[1, :])"
   ]
  },
  {
   "cell_type": "code",
   "execution_count": 33,
   "metadata": {},
   "outputs": [
    {
     "data": {
      "text/plain": [
       "\"Consideration of appointments to boards and commissions and the evaluation and duties of board and commission members (List of nominees is available in the City Secretary's Office)\""
      ]
     },
     "execution_count": 33,
     "metadata": {},
     "output_type": "execute_result"
    }
   ],
   "source": [
    "agendas[1]"
   ]
  },
  {
   "cell_type": "code",
   "execution_count": null,
   "metadata": {},
   "outputs": [],
   "source": []
  }
 ],
 "metadata": {
  "kernelspec": {
   "display_name": "Python 3",
   "language": "python",
   "name": "python3"
  },
  "language_info": {
   "codemirror_mode": {
    "name": "ipython",
    "version": 3
   },
   "file_extension": ".py",
   "mimetype": "text/x-python",
   "name": "python",
   "nbconvert_exporter": "python",
   "pygments_lexer": "ipython3",
   "version": "3.7.4"
  }
 },
 "nbformat": 4,
 "nbformat_minor": 2
}
